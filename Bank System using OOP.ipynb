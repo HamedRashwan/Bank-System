{
  "cells": [
    {
      "cell_type": "markdown",
      "metadata": {
        "id": "QBT_340IzRW-"
      },
      "source": [
        "![image.png](attachment:image.png)"
      ]
    },
    {
      "cell_type": "markdown",
      "metadata": {
        "id": "-SIE5wL0zRXV"
      },
      "source": [
        "> ### The Central Bank contacted our technical team and asked it to develop a program suitable for all banks, with the addition of some advantages for certain banks"
      ]
    },
    {
      "cell_type": "markdown",
      "metadata": {
        "id": "afevtF3wzRXW"
      },
      "source": [
        "# Task 1 :\n",
        "- #### task 1.1 Make Class(User) with attributes:\n",
        "    - name\n",
        "    - age\n",
        "    - gender\n",
        "    - balance\n",
        "- #### task 1.2 Make method to show previous data"
      ]
    },
    {
      "cell_type": "code",
      "execution_count": 1,
      "metadata": {
        "colab": {
          "base_uri": "https://localhost:8080/"
        },
        "id": "KREtQ6xLzRXY",
        "outputId": "4c9aad6b-1d41-457b-b77d-6b0cd3792233"
      },
      "outputs": [
        {
          "name": "stdout",
          "output_type": "stream",
          "text": [
            "Name: Hamed\n",
            "Age: 20\n",
            "Gender: male\n",
            "Balance: 1000000\n",
            "\n"
          ]
        }
      ],
      "source": [
        "class User:\n",
        "    def __init__(self, name, age, gender, balance):\n",
        "        self.name = name\n",
        "        self.age = age\n",
        "        self.gender = gender\n",
        "        self.balance = balance\n",
        "\n",
        "    def user_data(self):\n",
        "        print(\"Name:\", self.name)\n",
        "        print(\"Age:\", self.age)\n",
        "        print(\"Gender:\", self.gender)\n",
        "        print(\"Balance:\", self.balance)\n",
        "        print()\n",
        "user1 = User(\"Hamed\", 20, \"male\", 1000000)\n",
        "user1.user_data()"
      ]
    },
    {
      "cell_type": "markdown",
      "metadata": {
        "id": "wITs71NmzRXZ"
      },
      "source": [
        "# Task 2 :\n",
        "- Make Child Class(Bank) which inherite from Class(user) with Mehods:\n",
        "    - #### task 2.1 deposite : which take parameter(amount) and add it to balance and print new balance.  \n",
        "    - #### task 2.2 withdraw : which take parameter(amount) and check if user have enough money.\n",
        "    - #### task 2.3 view balance : to show current balance.\n"
      ]
    },
    {
      "cell_type": "code",
      "execution_count": 2,
      "metadata": {
        "colab": {
          "base_uri": "https://localhost:8080/"
        },
        "id": "NNENzVCGzRXb",
        "outputId": "132d4734-ee6f-453b-9a14-746f74f4c5f4"
      },
      "outputs": [
        {
          "name": "stdout",
          "output_type": "stream",
          "text": [
            "Current balance: 1000000\n",
            "Deposited: 500\n",
            "New balance: 1000500\n",
            "Withdrawn: 200\n",
            "New balance: 1000300\n",
            "Current balance: 1000300\n",
            "Name: Hamed\n",
            "Age: 20\n",
            "Gender: male\n",
            "Balance: 1000300\n",
            "\n"
          ]
        }
      ],
      "source": [
        "class Bank(User):\n",
        "    def __init__(self, name, age, gender, balance):\n",
        "        super().__init__(name, age, gender, balance)\n",
        "\n",
        "    def deposit(self, amount):\n",
        "        self.balance += amount\n",
        "        print(\"Deposited:\", amount)\n",
        "        print(\"New balance:\", self.balance)\n",
        "\n",
        "    def withdraw(self, amount):\n",
        "        if self.balance >= amount:\n",
        "            self.balance -= amount\n",
        "            print(\"Withdrawn:\", amount)\n",
        "            print(\"New balance:\", self.balance)\n",
        "        else:\n",
        "            print(\"Insufficient balance.\")\n",
        "\n",
        "    def view_balance(self):\n",
        "        print(\"Current balance:\", self.balance)\n",
        "\n",
        "bank1 = Bank(\"Hamed\", 20, \"male\", 1000000)\n",
        "bank1.view_balance()\n",
        "bank1.deposit(500)\n",
        "bank1.withdraw(200)\n",
        "bank1.view_balance()\n",
        "bank1.user_data()"
      ]
    },
    {
      "cell_type": "markdown",
      "metadata": {
        "id": "9GNl1JISzRXc"
      },
      "source": [
        "# Task 3 :\n",
        "- #### task 3.1 Make Child Class(CIB) which inherite from Class(Bank) with Mehods:\n",
        "    -   Loan application: which take parameter(amount) and  (Duration) >> max loan is one million\n",
        "- #### task 3.2 Make Child Class(QNB) which inherite from Class(Bank) with Mehods:\n",
        "    -   Loan application: which take parameter(amount) and  (Duration) >> max loan is one 2 million"
      ]
    },
    {
      "cell_type": "code",
      "execution_count": 3,
      "metadata": {
        "colab": {
          "base_uri": "https://localhost:8080/"
        },
        "id": "qJpnt_eZzRXd",
        "outputId": "9ae0fbd9-32b3-4ca6-e0a1-314b4f949025"
      },
      "outputs": [
        {
          "name": "stdout",
          "output_type": "stream",
          "text": [
            "Loan application for 800000 accepted for 12 months.\n",
            "Maximum loan amount is 1 million.\n",
            "Name: Hamed\n",
            "Age: 20\n",
            "Gender: male\n",
            "Balance: 1000000\n",
            "\n",
            "Loan application for 1500000 accepted for 18 months.\n",
            "Maximum loan amount is 2 million.\n",
            "Name: Hamed\n",
            "Age: 20\n",
            "Gender: male\n",
            "Balance: 1000000\n",
            "\n"
          ]
        }
      ],
      "source": [
        "class CIB(Bank):\n",
        "    def __init__(self, name, age, gender, balance):\n",
        "        super().__init__(name, age, gender, balance)\n",
        "\n",
        "    def loan_application(self, amount, duration):\n",
        "        if amount <= 1000000:\n",
        "            print(f\"Loan application for {amount} accepted for {duration} months.\")\n",
        "        else:\n",
        "            print(\"Maximum loan amount is 1 million.\")\n",
        "\n",
        "class QNB(Bank):\n",
        "    def __init__(self, name, age, gender, balance):\n",
        "        super().__init__(name, age, gender, balance)\n",
        "\n",
        "    def loan_application(self, amount, duration):\n",
        "        if amount <= 2000000:\n",
        "            print(f\"Loan application for {amount} accepted for {duration} months.\")\n",
        "        else:\n",
        "            print(\"Maximum loan amount is 2 million.\")\n",
        "cib1 = CIB(\"Hamed\", 20, \"male\", 1000000)\n",
        "cib1.loan_application(800000, 12)\n",
        "cib1.loan_application(1200000, 24)\n",
        "cib1.user_data()\n",
        "\n",
        "qnb1 = QNB(\"Hamed\", 20, \"male\", 1000000)\n",
        "qnb1.loan_application(1500000, 18)\n",
        "qnb1.loan_application(2500000, 36)\n",
        "qnb1.user_data()"
      ]
    },
    {
      "cell_type": "code",
      "execution_count": null,
      "metadata": {
        "id": "GYni6cbB2jny"
      },
      "outputs": [],
      "source": []
    }
  ],
  "metadata": {
    "colab": {
      "provenance": []
    },
    "kernelspec": {
      "display_name": "Python 3 (ipykernel)",
      "language": "python",
      "name": "python3"
    },
    "language_info": {
      "codemirror_mode": {
        "name": "ipython",
        "version": 3
      },
      "file_extension": ".py",
      "mimetype": "text/x-python",
      "name": "python",
      "nbconvert_exporter": "python",
      "pygments_lexer": "ipython3",
      "version": "3.11.3"
    }
  },
  "nbformat": 4,
  "nbformat_minor": 0
}
